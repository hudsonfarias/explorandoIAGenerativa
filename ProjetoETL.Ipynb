{
 "cells": [
  {
   "cell_type": "markdown",
   "metadata": {},
   "source": [
    "# Projeto ETL com Integração da API do GPT\n",
    "## Objetivo\n",
    "O objetivo deste projeto é enriquecer os dados de clientes com informações sobre opções de investimento. O processo ETL (Extração, Transformação e Carga) será aplicado aos dados, e uma IA generativa (GPT) será usada para gerar recomendações de investimento com base nos IDs dos clientes.\n",
    "## Etapas do Projeto\n",
    "\n",
    "### 1. Extração dos Dados\n",
    "\n",
    "#### 1.1. Leitura dos Arquivos CSV\n",
    "Nesta etapa, realizaremos a extração dos dados dos seguintes arquivos CSV:\n",
    "- `dados_clientes.csv`: Contém informações pessoais dos clientes.\n",
    "\n",
    "Vamos usar a biblioteca Pandas para a leitura dos arquivos CSV."
   ]
  },
  {
   "cell_type": "code",
   "execution_count": 45,
   "metadata": {},
   "outputs": [],
   "source": [
    "import pandas as pd\n",
    "dados_clientes_df = pd.read_csv(\"dados_clientes.csv\")"
   ]
  },
  {
   "cell_type": "markdown",
   "metadata": {},
   "source": [
    "### 2. Transformação dos Dados\n",
    "#### 2.1. Formatação de Campos de Data\n",
    "Vamos formatar as colunas de data no DataFrame dados_clientes_df para o formato \"dd/mm/yyyy\". As colunas \"DataRegistroBanco\" e \"DataNascimento\"."
   ]
  },
  {
   "cell_type": "code",
   "execution_count": 46,
   "metadata": {},
   "outputs": [],
   "source": [
    "dados_clientes_df['DataRegistroBanco'] =  pd.to_datetime(dados_clientes_df['DataRegistroBanco'], format='%Y-%m-%d').dt.strftime('%d/%m/%Y')\n",
    "dados_clientes_df['DataNascimento'] =  pd.to_datetime(dados_clientes_df['DataNascimento'], format='%Y-%m-%d').dt.strftime('%d/%m/%Y')"
   ]
  },
  {
   "cell_type": "markdown",
   "metadata": {},
   "source": [
    "#### 2.2. Formatação de Campos de Salário\n",
    "Vamos formatar a coluna de salário no DataFrame clientes_df para o formato \"R$ X.XX\"."
   ]
  },
  {
   "cell_type": "code",
   "execution_count": 47,
   "metadata": {},
   "outputs": [],
   "source": [
    "dados_clientes_df['Salario'] = dados_clientes_df['Salario'].apply(lambda x: f\"R$ {x:.2f}\")"
   ]
  },
  {
   "cell_type": "markdown",
   "metadata": {},
   "source": [
    "### 3. Integração com a API do GPT\n",
    "#### 3.1 Configurando chave de API do GPT\n",
    "Fazer essa configuração de chave, conseguimos interagir com a IA Generativa."
   ]
  },
  {
   "cell_type": "code",
   "execution_count": 48,
   "metadata": {},
   "outputs": [],
   "source": [
    "import openai\n",
    "import time\n",
    "\n",
    "api_key_gpt = 'Coloque sua chave de API'" ,
    "openai.api_key = api_key_gpt"
   ]
  },
  {
   "cell_type": "markdown",
   "metadata": {},
   "source": [
    "#### 3.2. Geração de Opções de Investimento\n",
    "Vamos interagir com os IDs dos clientes para obter informações relevantes. Usaremos a API do GPT para gerar opções de investimento com base na interação com esses IDs. Em seguida, adicionaremos as opções geradas a uma lista."
   ]
  },
  {
   "cell_type": "code",
   "execution_count": 49,
   "metadata": {},
   "outputs": [],
   "source": [
    "# Lista para armazenar as opções de investimento\n",
    "opcoes_de_investimento = []\n",
    "\n",
    "# Iterar pelos IDs dos clientes\n",
    "for nome in dados_clientes_df['Nome']:\n",
    "    prompt = f\"Crie uma mensagem sobre investimentos na bolsa de valores para cliente com nome {nome} (limite de 80 caracteres).\"\n",
    "    \n",
    "    # Crie a conversa em um formato de lista de mensagens\n",
    "    conversation = [\n",
    "        {\"role\": \"system\", \"content\": \"Você é um especialista em investimentos\"},\n",
    "        {\"role\": \"user\", \"content\": prompt}\n",
    "    ]\n",
    "\n",
    "    resposta = openai.ChatCompletion.create(\n",
    "        model=\"gpt-3.5-turbo\",\n",
    "        messages=conversation\n",
    "    )\n",
    "    \n",
    "    opcao_de_investimento = resposta['choices'][0]['message']['content']\n",
    "    opcoes_de_investimento.append(opcao_de_investimento)\n",
    "\n",
    "    # Aguarde 20 segundos entre as solicitações\n",
    "    time.sleep(20)"
   ]
  },
  {
   "cell_type": "markdown",
   "metadata": {},
   "source": [
    "### 4. Carga dos Dados\n",
    "#### 4.1. Adição das Opções de Investimento ao DataFrame\n",
    "Adicione as opções de investimento geradas ao DataFrame de clientes."
   ]
  },
  {
   "cell_type": "code",
   "execution_count": 50,
   "metadata": {},
   "outputs": [],
   "source": [
    "dados_clientes_df['OpcoesInvestimento'] = opcoes_de_investimento"
   ]
  },
  {
   "cell_type": "markdown",
   "metadata": {},
   "source": [
    "### 5. Formatação dos Dados\n",
    "Agora que temos as opções de investimento e os campos de data e salário formatados, podemos continuar com a formatação dos dados restantes, se necessário."
   ]
  },
  {
   "cell_type": "code",
   "execution_count": 51,
   "metadata": {},
   "outputs": [
    {
     "data": {
      "text/html": [
       "<div>\n",
       "<style scoped>\n",
       "    .dataframe tbody tr th:only-of-type {\n",
       "        vertical-align: middle;\n",
       "    }\n",
       "\n",
       "    .dataframe tbody tr th {\n",
       "        vertical-align: top;\n",
       "    }\n",
       "\n",
       "    .dataframe thead th {\n",
       "        text-align: right;\n",
       "    }\n",
       "</style>\n",
       "<table border=\"1\" class=\"dataframe\">\n",
       "  <thead>\n",
       "    <tr style=\"text-align: right;\">\n",
       "      <th></th>\n",
       "      <th>ID</th>\n",
       "      <th>Nome</th>\n",
       "      <th>Email</th>\n",
       "      <th>UF</th>\n",
       "      <th>Salario</th>\n",
       "      <th>DataRegistroBanco</th>\n",
       "      <th>Agencia</th>\n",
       "      <th>NumeroConta</th>\n",
       "      <th>DataNascimento</th>\n",
       "      <th>Sexo</th>\n",
       "      <th>OpcoesInvestimento</th>\n",
       "    </tr>\n",
       "  </thead>\n",
       "  <tbody>\n",
       "    <tr>\n",
       "      <th>0</th>\n",
       "      <td>1</td>\n",
       "      <td>João Silva</td>\n",
       "      <td>joao.silva@email.com</td>\n",
       "      <td>SP</td>\n",
       "      <td>R$ 5000.00</td>\n",
       "      <td>15/01/2022</td>\n",
       "      <td>7890</td>\n",
       "      <td>123456789</td>\n",
       "      <td>10/03/1985</td>\n",
       "      <td>Masculino</td>\n",
       "      <td>João Silva, invista na bolsa e amplie seus gan...</td>\n",
       "    </tr>\n",
       "    <tr>\n",
       "      <th>1</th>\n",
       "      <td>2</td>\n",
       "      <td>Maria Santos</td>\n",
       "      <td>maria.santos@email.com</td>\n",
       "      <td>RJ</td>\n",
       "      <td>R$ 3200.50</td>\n",
       "      <td>20/11/2021</td>\n",
       "      <td>4567</td>\n",
       "      <td>987654321</td>\n",
       "      <td>22/07/1990</td>\n",
       "      <td>Feminino</td>\n",
       "      <td>\"Maria Santos, invista na bolsa: segurança e l...</td>\n",
       "    </tr>\n",
       "    <tr>\n",
       "      <th>2</th>\n",
       "      <td>3</td>\n",
       "      <td>Carlos Ferreira</td>\n",
       "      <td>carlos.ferreira@email.com</td>\n",
       "      <td>MG</td>\n",
       "      <td>R$ 7500.75</td>\n",
       "      <td>05/03/2022</td>\n",
       "      <td>2345</td>\n",
       "      <td>456123789</td>\n",
       "      <td>14/09/1978</td>\n",
       "      <td>Masculino</td>\n",
       "      <td>\"Carlos Ferreira, invista na bolsa de valores ...</td>\n",
       "    </tr>\n",
       "    <tr>\n",
       "      <th>3</th>\n",
       "      <td>4</td>\n",
       "      <td>Ana Souza</td>\n",
       "      <td>ana.souza@email.com</td>\n",
       "      <td>BA</td>\n",
       "      <td>R$ 1200.20</td>\n",
       "      <td>30/04/2022</td>\n",
       "      <td>7890</td>\n",
       "      <td>987654321</td>\n",
       "      <td>03/12/1995</td>\n",
       "      <td>Feminino</td>\n",
       "      <td>Invista na bolsa: crescimento e rentabilidade ...</td>\n",
       "    </tr>\n",
       "    <tr>\n",
       "      <th>4</th>\n",
       "      <td>5</td>\n",
       "      <td>Lucas Oliveira</td>\n",
       "      <td>lucas.oliveira@email.com</td>\n",
       "      <td>RS</td>\n",
       "      <td>R$ 4300.60</td>\n",
       "      <td>08/10/2021</td>\n",
       "      <td>1234</td>\n",
       "      <td>123456789</td>\n",
       "      <td>25/05/1987</td>\n",
       "      <td>Masculino</td>\n",
       "      <td>\"Lucas Oliveira, invista na bolsa e alcance se...</td>\n",
       "    </tr>\n",
       "    <tr>\n",
       "      <th>5</th>\n",
       "      <td>6</td>\n",
       "      <td>Julia Santos</td>\n",
       "      <td>julia.santos@email.com</td>\n",
       "      <td>PR</td>\n",
       "      <td>R$ 6000.30</td>\n",
       "      <td>18/02/2022</td>\n",
       "      <td>5678</td>\n",
       "      <td>789456123</td>\n",
       "      <td>29/11/1993</td>\n",
       "      <td>Feminino</td>\n",
       "      <td>\"Julia Santos, potencialize sua rentabilidade:...</td>\n",
       "    </tr>\n",
       "    <tr>\n",
       "      <th>6</th>\n",
       "      <td>7</td>\n",
       "      <td>Mariana Pereira</td>\n",
       "      <td>mariana.pereira@email.com</td>\n",
       "      <td>SC</td>\n",
       "      <td>R$ 4200.75</td>\n",
       "      <td>12/06/2022</td>\n",
       "      <td>3456</td>\n",
       "      <td>987123456</td>\n",
       "      <td>17/04/1991</td>\n",
       "      <td>Feminino</td>\n",
       "      <td>\"Maximize seu patrimônio na B3 com estratégias...</td>\n",
       "    </tr>\n",
       "    <tr>\n",
       "      <th>7</th>\n",
       "      <td>8</td>\n",
       "      <td>Ricardo Martins</td>\n",
       "      <td>ricardo.martins@email.com</td>\n",
       "      <td>GO</td>\n",
       "      <td>R$ 5500.40</td>\n",
       "      <td>29/12/2021</td>\n",
       "      <td>8901</td>\n",
       "      <td>456789012</td>\n",
       "      <td>05/08/1980</td>\n",
       "      <td>Masculino</td>\n",
       "      <td>\"Aumente sua carteira com segurança na Bolsa. ...</td>\n",
       "    </tr>\n",
       "    <tr>\n",
       "      <th>8</th>\n",
       "      <td>9</td>\n",
       "      <td>Lúcia Rodrigues</td>\n",
       "      <td>lucia.rodrigues@email.com</td>\n",
       "      <td>AM</td>\n",
       "      <td>R$ 3700.90</td>\n",
       "      <td>03/08/2022</td>\n",
       "      <td>6789</td>\n",
       "      <td>654321987</td>\n",
       "      <td>13/02/1989</td>\n",
       "      <td>Feminino</td>\n",
       "      <td>\"Maximize sua rentabilidade na Bolsa com a ori...</td>\n",
       "    </tr>\n",
       "    <tr>\n",
       "      <th>9</th>\n",
       "      <td>10</td>\n",
       "      <td>Felipe Almeida</td>\n",
       "      <td>felipe.almeida@email.com</td>\n",
       "      <td>CE</td>\n",
       "      <td>R$ 4900.60</td>\n",
       "      <td>25/05/2022</td>\n",
       "      <td>1234</td>\n",
       "      <td>210987654</td>\n",
       "      <td>18/06/1984</td>\n",
       "      <td>Masculino</td>\n",
       "      <td>\"Seja um investidor de sucesso na Bolsa de Val...</td>\n",
       "    </tr>\n",
       "  </tbody>\n",
       "</table>\n",
       "</div>"
      ],
      "text/plain": [
       "   ID             Nome                      Email  UF     Salario  \\\n",
       "0   1       João Silva       joao.silva@email.com  SP  R$ 5000.00   \n",
       "1   2     Maria Santos     maria.santos@email.com  RJ  R$ 3200.50   \n",
       "2   3  Carlos Ferreira  carlos.ferreira@email.com  MG  R$ 7500.75   \n",
       "3   4        Ana Souza        ana.souza@email.com  BA  R$ 1200.20   \n",
       "4   5   Lucas Oliveira   lucas.oliveira@email.com  RS  R$ 4300.60   \n",
       "5   6     Julia Santos     julia.santos@email.com  PR  R$ 6000.30   \n",
       "6   7  Mariana Pereira  mariana.pereira@email.com  SC  R$ 4200.75   \n",
       "7   8  Ricardo Martins  ricardo.martins@email.com  GO  R$ 5500.40   \n",
       "8   9  Lúcia Rodrigues  lucia.rodrigues@email.com  AM  R$ 3700.90   \n",
       "9  10   Felipe Almeida   felipe.almeida@email.com  CE  R$ 4900.60   \n",
       "\n",
       "  DataRegistroBanco  Agencia  NumeroConta DataNascimento       Sexo  \\\n",
       "0        15/01/2022     7890    123456789     10/03/1985  Masculino   \n",
       "1        20/11/2021     4567    987654321     22/07/1990   Feminino   \n",
       "2        05/03/2022     2345    456123789     14/09/1978  Masculino   \n",
       "3        30/04/2022     7890    987654321     03/12/1995   Feminino   \n",
       "4        08/10/2021     1234    123456789     25/05/1987  Masculino   \n",
       "5        18/02/2022     5678    789456123     29/11/1993   Feminino   \n",
       "6        12/06/2022     3456    987123456     17/04/1991   Feminino   \n",
       "7        29/12/2021     8901    456789012     05/08/1980  Masculino   \n",
       "8        03/08/2022     6789    654321987     13/02/1989   Feminino   \n",
       "9        25/05/2022     1234    210987654     18/06/1984  Masculino   \n",
       "\n",
       "                                  OpcoesInvestimento  \n",
       "0  João Silva, invista na bolsa e amplie seus gan...  \n",
       "1  \"Maria Santos, invista na bolsa: segurança e l...  \n",
       "2  \"Carlos Ferreira, invista na bolsa de valores ...  \n",
       "3  Invista na bolsa: crescimento e rentabilidade ...  \n",
       "4  \"Lucas Oliveira, invista na bolsa e alcance se...  \n",
       "5  \"Julia Santos, potencialize sua rentabilidade:...  \n",
       "6  \"Maximize seu patrimônio na B3 com estratégias...  \n",
       "7  \"Aumente sua carteira com segurança na Bolsa. ...  \n",
       "8  \"Maximize sua rentabilidade na Bolsa com a ori...  \n",
       "9  \"Seja um investidor de sucesso na Bolsa de Val...  "
      ]
     },
     "metadata": {},
     "output_type": "display_data"
    }
   ],
   "source": [
    "# Visualizar o dataframe para conferir os dados.\n",
    "display(dados_clientes_df)"
   ]
  },
  {
   "cell_type": "markdown",
   "metadata": {},
   "source": [
    "### 6. Saída dos Dados\n",
    "#### 6.1. Salvando os Dados em um Novo Arquivo CSV"
   ]
  },
  {
   "cell_type": "code",
   "execution_count": 52,
   "metadata": {},
   "outputs": [],
   "source": [
    "# Salvar o DataFrame final em um novo arquivo CSV\n",
    "dados_clientes_df.to_csv(\"clientes_com_investimentos.csv\", index=False)"
   ]
  },
  {
   "cell_type": "markdown",
   "metadata": {},
   "source": [
    "## Conclusão do Projeto\n",
    "Neste projeto, implementamos um pipeline ETL (Extração, Transformação e Carga) para enriquecer os dados de clientes com informações de investimento. O processo envolveu a extração de dados de um arquivo CSV: contendo informações pessoais dos clientes. Além disso, integramos a API do GPT para gerar recomendações de investimento personalizadas com base nos nomes dos clientes."
   ]
  }
 ],
 "metadata": {
  "kernelspec": {
   "display_name": "Python 3",
   "language": "python",
   "name": "python3"
  },
  "language_info": {
   "codemirror_mode": {
    "name": "ipython",
    "version": 3
   },
   "file_extension": ".py",
   "mimetype": "text/x-python",
   "name": "python",
   "nbconvert_exporter": "python",
   "pygments_lexer": "ipython3",
   "version": "3.11.4"
  }
 },
 "nbformat": 4,
 "nbformat_minor": 2
}
